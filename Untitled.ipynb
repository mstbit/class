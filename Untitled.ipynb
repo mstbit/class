{
 "cells": [
  {
   "cell_type": "code",
<<<<<<< HEAD
   "execution_count": 4,
   "id": "582d6871-b5cd-44bc-912b-f71f1eb0aa02",
   "metadata": {},
   "outputs": [],
   "source": [
    "import numpy as np\n",
    "import matplotlib.pyplot as plt"
   ]
  },
  {
   "cell_type": "code",
   "execution_count": null,
   "id": "bd1257b9-8544-47ac-af94-0ef78736e435",
=======
   "execution_count": null,
   "id": "b0d57d87-3168-461f-9e15-1456ef798aa0",
>>>>>>> 80b6830501173cc3408243222bc1eb197510c52a
   "metadata": {},
   "outputs": [],
   "source": []
  }
 ],
 "metadata": {
  "kernelspec": {
   "display_name": "Python 3 (ipykernel)",
   "language": "python",
   "name": "python3"
  },
  "language_info": {
   "codemirror_mode": {
    "name": "ipython",
    "version": 3
   },
   "file_extension": ".py",
   "mimetype": "text/x-python",
   "name": "python",
   "nbconvert_exporter": "python",
   "pygments_lexer": "ipython3",
<<<<<<< HEAD
   "version": "3.11.8"
=======
   "version": "3.12.2"
>>>>>>> 80b6830501173cc3408243222bc1eb197510c52a
  }
 },
 "nbformat": 4,
 "nbformat_minor": 5
}
