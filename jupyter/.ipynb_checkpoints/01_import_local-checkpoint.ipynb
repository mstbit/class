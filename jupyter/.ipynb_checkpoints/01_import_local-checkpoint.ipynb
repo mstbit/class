{
 "cells": [
  {
   "cell_type": "code",
   "execution_count": 13,
   "id": "47e6c89e-46a6-4ceb-a45c-2efb3d3b5e26",
   "metadata": {},
   "outputs": [],
   "source": [
    "import sys\n",
    "sys.path.insert(1, '..')\n",
    "\n",
    "import calc"
   ]
  },
  {
   "cell_type": "code",
   "execution_count": 14,
   "id": "2c3b11a5-5df5-442f-9bf7-b313f2370499",
   "metadata": {},
   "outputs": [
    {
     "data": {
      "text/plain": [
       "6"
      ]
     },
     "execution_count": 14,
     "metadata": {},
     "output_type": "execute_result"
    }
   ],
   "source": [
    "calc.add_multiple(1, 2, 3)"
   ]
  },
  {
   "cell_type": "code",
   "execution_count": null,
   "id": "35045a87-9ca2-4b7c-a7b9-731d1a18d2a8",
   "metadata": {},
   "outputs": [],
   "source": []
  }
 ],
 "metadata": {
  "kernelspec": {
   "display_name": "Python 3 (ipykernel)",
   "language": "python",
   "name": "python3"
  },
  "language_info": {
   "codemirror_mode": {
    "name": "ipython",
    "version": 3
   },
   "file_extension": ".py",
   "mimetype": "text/x-python",
   "name": "python",
   "nbconvert_exporter": "python",
   "pygments_lexer": "ipython3",
   "version": "3.11.0"
  }
 },
 "nbformat": 4,
 "nbformat_minor": 5
}
