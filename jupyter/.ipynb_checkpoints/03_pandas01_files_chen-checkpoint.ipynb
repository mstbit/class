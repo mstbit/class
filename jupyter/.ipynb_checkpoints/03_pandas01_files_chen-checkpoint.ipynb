{
 "cells": [
  {
   "cell_type": "markdown",
   "id": "5ed89a22-a129-49ac-9e9d-add54889edd7",
   "metadata": {},
   "source": [
    "## Managing File Path in Jupyter\n",
    "#### 1/3. Import Libraries"
   ]
  },
  {
   "cell_type": "code",
   "execution_count": 2,
   "id": "0f159047-936c-4067-9f05-d451d0f64b0d",
   "metadata": {},
   "outputs": [],
   "source": [
    "import pandas as pd\n",
    "import os\n",
    "import os.path as path\n",
    "# os.getcwd()\n",
    "# os.chdir(\"data\")\n",
    "# os.chdir('')"
   ]
  },
  {
   "cell_type": "markdown",
   "id": "45c4659b-47cc-49db-812a-d357de0af65a",
   "metadata": {},
   "source": [
    "#### 2/3. Create DataFrame\n",
    "##### 1. assign data/datacsv to read_csv() \n",
    "##### 2. using with statement (file close automatically) \n",
    "##### 3. use path.join to join path and data\n",
    "##### 4. use os.chdir then assign\n"
   ]
  },
  {
   "cell_type": "code",
   "execution_count": 3,
   "id": "ddf666a8-bfb5-4287-8107-d5b7e868460b",
   "metadata": {},
   "outputs": [
    {
     "name": "stdout",
     "output_type": "stream",
     "text": [
      "HOMMMMMMMMMMM /Users/tcn85\n",
      "WWWWWWWWWWWWW /Users/tcn85/workspace/class/jupyter/data\n"
     ]
    },
    {
     "ename": "NameError",
     "evalue": "name 'df' is not defined",
     "output_type": "error",
     "traceback": [
      "\u001b[0;31m---------------------------------------------------------------------------\u001b[0m",
      "\u001b[0;31mNameError\u001b[0m                                 Traceback (most recent call last)",
      "Cell \u001b[0;32mIn[3], line 31\u001b[0m\n\u001b[1;32m      6\u001b[0m \u001b[38;5;28mprint\u001b[39m(\u001b[38;5;124m\"\u001b[39m\u001b[38;5;124mWWWWWWWWWWWWW\u001b[39m\u001b[38;5;124m\"\u001b[39m, data_path)\n\u001b[1;32m      8\u001b[0m \u001b[38;5;66;03m# ##### option 1: ##### works in macOS/Windows\u001b[39;00m\n\u001b[1;32m      9\u001b[0m \u001b[38;5;66;03m# df = pd.read_csv(data_path+\"/data.csv\")\u001b[39;00m\n\u001b[1;32m     10\u001b[0m \n\u001b[0;32m   (...)\u001b[0m\n\u001b[1;32m     29\u001b[0m \n\u001b[1;32m     30\u001b[0m \u001b[38;5;66;03m# ##### output\u001b[39;00m\n\u001b[0;32m---> 31\u001b[0m \u001b[38;5;28mprint\u001b[39m(\u001b[43mdf\u001b[49m\u001b[38;5;241m.\u001b[39mdescribe())\n",
      "\u001b[0;31mNameError\u001b[0m: name 'df' is not defined"
     ]
    }
   ],
   "source": [
    "# data_path = \"$HOME/workspace/class/jupyter/data\"\n",
    "HOME = (os.path.expanduser('~'))    ### give us ~, the home directory\n",
    "print(\"HOMMMMMMMMMMM\", HOME)\n",
    "\n",
    "data_path = HOME + '/workspace/class/jupyter/data'\n",
    "print(\"WWWWWWWWWWWWW\", data_path)\n",
    "\n",
    "# ##### option 1: ##### works in macOS/Windows/Jupyter\n",
    "# df = pd.read_csv(data_path+\"/data.csv\")\n",
    "\n",
    "\n",
    "# ##### option 2: with open ##### works in macOS/Windows\n",
    "# with open(data_path+\"/data.csv\") as f:\n",
    "#     df = pd.read_csv(f)\n",
    "\n",
    "# ##### option 3: path.join ##### works in mac/Windows\n",
    "# data = path.join(data_path, \"data.csv\")\n",
    "# with open(data) as f:\n",
    "#     df = pd.read_csv(f)\n",
    "\n",
    "# ##### option 4: path.join ##### works in Windows/macOS\n",
    "# data = path.join(data_path, \"data.csv\")\n",
    "# with open(data) as f:\n",
    "#     df = pd.read_csv(f)\n",
    "\n",
    "##### option 5: change dir ##### works in Windows 11/macOS\n",
    "# os.chdir(data_path)\n",
    "# df = pd.read_csv(\"data.csv\")\n",
    "\n",
    "# ##### output\n",
    "print(df.describe())\n",
    "\n"
   ]
  },
  {
   "cell_type": "code",
   "execution_count": null,
   "id": "3a945da1-716f-499a-ba1b-78f7b617b719",
   "metadata": {},
   "outputs": [],
   "source": []
  },
  {
   "cell_type": "code",
   "execution_count": null,
   "id": "f8ef1bc1-c628-45f5-92f7-64a09cd9a7a2",
   "metadata": {},
   "outputs": [],
   "source": []
  }
 ],
 "metadata": {
  "kernelspec": {
   "display_name": "Python 3 (ipykernel)",
   "language": "python",
   "name": "python3"
  },
  "language_info": {
   "codemirror_mode": {
    "name": "ipython",
    "version": 3
   },
   "file_extension": ".py",
   "mimetype": "text/x-python",
   "name": "python",
   "nbconvert_exporter": "python",
   "pygments_lexer": "ipython3",
   "version": "3.12.0"
  }
 },
 "nbformat": 4,
 "nbformat_minor": 5
}
