{
 "cells": [
  {
   "cell_type": "markdown",
   "id": "add37b55-ecea-4e2e-a42b-6d7de7ea527b",
   "metadata": {},
   "source": [
    "# Exercises¶\n",
    "#### After you are done:\n",
    "1. <span style=\"color:green\">**Upload HTML to assignment**</span>: File --> Save and Export... --> HTML and upload the file to Canvas assignment. Ask the instructor if you do not see the assignment available.\n",
    "2. <span style=\"color:green\">**GitHub**</span>: Commit to mstbit/class/jupyter with the filename 01_z_excercises_LASTNAME\n",
    "\n",
    "\n"
   ]
  },
  {
   "cell_type": "markdown",
   "id": "ce05afea-4057-4aab-886a-4de29b5f6ed6",
   "metadata": {},
   "source": [
    "***\n",
    "\n",
    "1/2. Write a function that accepts 5 numbers as arguments and returns the average of those numbers.\n",
    "#### Code solution here."
   ]
  },
  {
   "cell_type": "code",
   "execution_count": null,
   "id": "9aadcbb0-611e-47ff-ac72-70f73d930298",
   "metadata": {},
   "outputs": [],
   "source": [
    "def func_avg_5 (*args):\n",
    "    total = 0\n",
    "    for i in args:\n",
    "        total = total + i\n",
    "    return total\n",
    "\n",
    "func_avg_5(1, 2, 3, 4, 5)"
   ]
  },
  {
   "cell_type": "markdown",
   "id": "1de7657e-8d77-44dc-8bda-72122e83d0ce",
   "metadata": {},
   "source": [
    "***\n",
    "\n",
    "2/2. Write a function that takes accepts a single integer and displays whether the integer is odd or even.\n",
    "#### Code solution here.\n"
   ]
  },
  {
   "cell_type": "code",
   "execution_count": null,
   "id": "054a980e-ace2-49b1-bd16-8a464fb9199b",
   "metadata": {},
   "outputs": [],
   "source": [
    "def func(int_num):\n",
    "    if int_num % 2 == 0:\n",
    "        print(f\"You have entreed {int_num}, which is an even number.\")\n",
    "    else:\n",
    "        print(f\"You have entreed {int_num}, which is an odd number.\")\n",
    "        \n",
    "func(5)\n"
   ]
  },
  {
   "cell_type": "code",
   "execution_count": null,
   "id": "6985613a-7714-4049-8212-7b6985e96da0",
   "metadata": {},
   "outputs": [],
   "source": []
  }
 ],
 "metadata": {
  "kernelspec": {
   "display_name": "Python 3 (ipykernel)",
   "language": "python",
   "name": "python3"
  },
  "language_info": {
   "codemirror_mode": {
    "name": "ipython",
    "version": 3
   },
   "file_extension": ".py",
   "mimetype": "text/x-python",
   "name": "python",
   "nbconvert_exporter": "python",
   "pygments_lexer": "ipython3",
   "version": "3.11.8"
  }
 },
 "nbformat": 4,
 "nbformat_minor": 5
}
