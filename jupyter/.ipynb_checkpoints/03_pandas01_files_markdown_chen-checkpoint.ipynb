{
 "cells": [
  {
   "cell_type": "markdown",
   "id": "5ed89a22-a129-49ac-9e9d-add54889edd7",
   "metadata": {},
   "source": [
    "## Managing File Path in Jupyter\n",
    "#### 1/3. Import Libraries"
   ]
  },
  {
   "cell_type": "code",
   "execution_count": 4,
   "id": "0f159047-936c-4067-9f05-d451d0f64b0d",
   "metadata": {},
   "outputs": [],
   "source": [
    "import pandas as pd\n",
    "import os\n",
    "import os.path as path\n",
    "# os.getcwd()\n",
    "# os.chdir(\"data\")\n",
    "# os.chdir('')"
   ]
  },
  {
   "cell_type": "markdown",
   "id": "45c4659b-47cc-49db-812a-d357de0af65a",
   "metadata": {},
   "source": [
    "#### 2/3. Create DataFrame\n",
    "##### 1. assign data/datacsv to read_csv() \n",
    "##### 2. using with statement (file close automatically) \n",
    "##### 3. use path.join to join path and data\n",
    "##### 4. use os.chdir then assign\n"
   ]
  },
  {
   "cell_type": "code",
   "execution_count": 6,
   "id": "ddf666a8-bfb5-4287-8107-d5b7e868460b",
   "metadata": {},
   "outputs": [
    {
     "name": "stdout",
     "output_type": "stream",
     "text": [
      "HOMMMMMMMMMMM /Users/tcn85\n",
      "WWWWWWWWWWWWW /Users/tcn85/workspace/class/jupyter/data\n"
     ]
    },
    {
     "data": {
      "text/plain": [
       "<bound method NDFrame.describe of      Duration  Pulse  Maxpulse  Calories\n",
       "0          60    110       130     409.1\n",
       "1          60    117       145     479.0\n",
       "2          60    103       135     340.0\n",
       "3          45    109       175     282.4\n",
       "4          45    117       148     406.0\n",
       "..        ...    ...       ...       ...\n",
       "164        60    105       140     290.8\n",
       "165        60    110       145     300.4\n",
       "166        60    115       145     310.2\n",
       "167        75    120       150     320.4\n",
       "168        75    125       150     330.4\n",
       "\n",
       "[169 rows x 4 columns]>"
      ]
     },
     "execution_count": 6,
     "metadata": {},
     "output_type": "execute_result"
    }
   ],
   "source": [
    "# data_path = \"$HOME/workspace/class/jupyter/data\"\n",
    "HOME = (os.path.expanduser('~'))    ### give us ~, the home directory\n",
    "print(\"HOMMMMMMMMMMM\", HOME)\n",
    "\n",
    "data_path = HOME + '/workspace/class/jupyter/data'\n",
    "print(\"WWWWWWWWWWWWW\", data_path)\n",
    "\n",
    "# ##### option 1: ##### works in macOS/Windows/Jupyter\n",
    "# df = pd.read_csv(data_path+\"/data.csv\")\n",
    "\n",
    "\n",
    "# ##### option 2: with open ##### works in macOS/Windows/Jupyter\n",
    "# with open(data_path+\"/data.csv\") as f:\n",
    "#     df = pd.read_csv(f)\n",
    "\n",
    "# ##### option 3: path.join ##### works in mac/Windows/Jupyter\n",
    "# data = path.join(data_path, \"data.csv\")\n",
    "# with open(data) as f:\n",
    "#     df = pd.read_csv(f)\n",
    "\n",
    "# ##### option 4: path.join ##### works in Windows/macOS/Jupyter\n",
    "# data = path.join(data_path, \"data.csv\")\n",
    "# with open(data) as f:\n",
    "#     df = pd.read_csv(f)\n",
    "\n",
    "##### option 5: change dir ##### works in Windows 11/macOS\n",
    "os.chdir(data_path)\n",
    "df = pd.read_csv(\"data.csv\")\n",
    "\n",
    "# ##### output\n",
    "# df.describe()\n",
    "df.describe\n",
    "\n"
   ]
  },
  {
   "cell_type": "code",
   "execution_count": null,
   "id": "3a945da1-716f-499a-ba1b-78f7b617b719",
   "metadata": {},
   "outputs": [],
   "source": []
  },
  {
   "cell_type": "code",
   "execution_count": null,
   "id": "f8ef1bc1-c628-45f5-92f7-64a09cd9a7a2",
   "metadata": {},
   "outputs": [],
   "source": []
  }
 ],
 "metadata": {
  "kernelspec": {
   "display_name": "Python 3 (ipykernel)",
   "language": "python",
   "name": "python3"
  },
  "language_info": {
   "codemirror_mode": {
    "name": "ipython",
    "version": 3
   },
   "file_extension": ".py",
   "mimetype": "text/x-python",
   "name": "python",
   "nbconvert_exporter": "python",
   "pygments_lexer": "ipython3",
   "version": "3.12.0"
  }
 },
 "nbformat": 4,
 "nbformat_minor": 5
}
