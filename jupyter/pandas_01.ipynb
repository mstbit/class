{
 "cells": [
  {
   "cell_type": "markdown",
   "id": "5ed89a22-a129-49ac-9e9d-add54889edd7",
   "metadata": {},
   "source": [
    "# Manag\n",
    "#### 1/3. Import Libraries"
   ]
  },
  {
   "cell_type": "code",
   "execution_count": 154,
   "id": "0f159047-936c-4067-9f05-d451d0f64b0d",
   "metadata": {},
   "outputs": [],
   "source": [
    "import numpy\n",
    "import pandas as pd\n",
    "import os.path as path\n",
    "# os.getcwd()\n",
    "# os.chdir(\"data\")\n",
    "# os.chdir('')"
   ]
  },
  {
   "cell_type": "markdown",
   "id": "45c4659b-47cc-49db-812a-d357de0af65a",
   "metadata": {},
   "source": [
    "#### 2/3. Create DataFrame\n",
    "##### 1. assign data/datacsv to read_csv() \n",
    "##### 2. assign with \n",
    "##### 1. assign with \n",
    "##### 1. assign with \n"
   ]
  },
  {
   "cell_type": "code",
   "execution_count": 159,
   "id": "ddf666a8-bfb5-4287-8107-d5b7e868460b",
   "metadata": {},
   "outputs": [],
   "source": [
    "# data_path = \"$HOME/workspace/class/jupyter/data\"\n",
    "data_path = \"/Users/tychen/workspace/class/jupyter/data\"\n",
    "\n",
    "# ##### option 1: DOES NOT WORK in Jupyter\n",
    "# df = pd.read_csv(\"data/data.csv\")\n",
    "\n",
    "# ##### option 2: DOES NOT WORK in Jupyter\n",
    "# with open(\"data/data.csv\") as f:\n",
    "#     df = pd.read_csv(f)\n",
    "\n",
    "# ##### option 3: path.join\n",
    "# data = path.join(data_path, \"data.csv\")\n",
    "# with open(data) as f:\n",
    "#     df = pd.read_csv(f)\n",
    "\n",
    "# ##### option 4: change dir\n",
    "# os.chdir(data_path)\n",
    "# df = pd.read_csv(\"data.csv\")\n",
    "\n"
   ]
  },
  {
   "cell_type": "markdown",
   "id": "b82ca792-9282-484b-b1c7-ca6cda84049f",
   "metadata": {},
   "source": [
    "#### 3/3. Output\n",
    "\n",
    "##### to_string(): render a DataFrame to a console-friendly tabular output"
   ]
  },
  {
   "cell_type": "code",
   "execution_count": 156,
   "id": "ff85d555-7ad4-483f-a049-f7ef0c57b893",
   "metadata": {},
   "outputs": [
    {
     "name": "stdout",
     "output_type": "stream",
     "text": [
      "         Duration       Pulse    Maxpulse     Calories\n",
      "count  169.000000  169.000000  169.000000   164.000000\n",
      "mean    63.846154  107.461538  134.047337   375.800000\n",
      "std     42.299949   14.510259   16.450434   266.377134\n",
      "min     15.000000   80.000000  100.000000    50.300000\n",
      "25%     45.000000  100.000000  124.000000   250.925000\n",
      "50%     60.000000  105.000000  131.000000   318.600000\n",
      "75%     60.000000  111.000000  141.000000   387.600000\n",
      "max    300.000000  159.000000  184.000000  1860.400000\n"
     ]
    }
   ],
   "source": [
    "# print(df.to_string())     \n",
    "# print(df)\n",
    "print(df.describe())"
   ]
  },
  {
   "cell_type": "code",
   "execution_count": null,
   "id": "3a945da1-716f-499a-ba1b-78f7b617b719",
   "metadata": {},
   "outputs": [],
   "source": []
  }
 ],
 "metadata": {
  "kernelspec": {
   "display_name": "Python 3 (ipykernel)",
   "language": "python",
   "name": "python3"
  },
  "language_info": {
   "codemirror_mode": {
    "name": "ipython",
    "version": 3
   },
   "file_extension": ".py",
   "mimetype": "text/x-python",
   "name": "python",
   "nbconvert_exporter": "python",
   "pygments_lexer": "ipython3",
   "version": "3.12.0"
  }
 },
 "nbformat": 4,
 "nbformat_minor": 5
}
