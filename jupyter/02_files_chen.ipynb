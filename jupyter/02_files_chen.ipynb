{
 "cells": [
  {
   "cell_type": "code",
   "execution_count": null,
   "id": "37e31304-9154-4cc6-a6be-258befc93c23",
   "metadata": {},
   "outputs": [],
   "source": []
  },
  {
   "cell_type": "code",
   "execution_count": 5,
   "id": "f6bbdd4b-28c6-4f0a-858a-2b6836422678",
   "metadata": {},
   "outputs": [],
   "source": [
    "run -i 02_file1_hello_chen.py"
   ]
  },
  {
   "cell_type": "code",
   "execution_count": null,
   "id": "0c246a1e-263d-4536-baeb-104d4134e54f",
   "metadata": {},
   "outputs": [],
   "source": []
  }
 ],
 "metadata": {
  "kernelspec": {
   "display_name": "Python 3 (ipykernel)",
   "language": "python",
   "name": "python3"
  },
  "language_info": {
   "codemirror_mode": {
    "name": "ipython",
    "version": 3
   },
   "file_extension": ".py",
   "mimetype": "text/x-python",
   "name": "python",
   "nbconvert_exporter": "python",
   "pygments_lexer": "ipython3",
   "version": "3.12.0"
  }
 },
 "nbformat": 4,
 "nbformat_minor": 5
}
