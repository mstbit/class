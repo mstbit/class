{
 "cells": [
  {
   "cell_type": "code",
   "execution_count": 19,
   "id": "37e31304-9154-4cc6-a6be-258befc93c23",
   "metadata": {},
   "outputs": [
    {
     "name": "stdout",
     "output_type": "stream",
     "text": [
      "\n",
      "###################################################\n",
      "warming up\n",
      "###################################################\n",
      "add two:          15\n",
      "add multi values: 15\n",
      "sum lst for:      26\n",
      "sum lst sum():    26\n",
      "\n",
      "###################################################\n",
      "descriptive stats: 1/3 measures of central tendency\n",
      "###################################################\n",
      "mean of list:     3.25\n",
      "median of lst:    4.0\n",
      "mode of lst:      4\n",
      "\n",
      "###################################################\n",
      "descriptive stats: 2/3 measures of variability\n",
      "###################################################\n",
      "variance of lst:  96\n",
      "std deviation:    12.0\n",
      "\n",
      "###################################################\n",
      "descriptive stats: 3/3 measures of frequency distribution\n",
      "###################################################\n",
      "frequency of lst:  {1: 1, 2: 1, 3: 2, 4: 3, 5: 1}\n"
     ]
    }
   ],
   "source": [
    "import sys\n",
    "sys.path.append(\"..\")\n",
    "import calc"
   ]
  },
  {
   "cell_type": "code",
   "execution_count": 20,
   "id": "f6bbdd4b-28c6-4f0a-858a-2b6836422678",
   "metadata": {},
   "outputs": [
    {
     "data": {
      "text/plain": [
       "6"
      ]
     },
     "execution_count": 20,
     "metadata": {},
     "output_type": "execute_result"
    }
   ],
   "source": [
    "calc.add_multiple(1, 2, 3)"
   ]
  },
  {
   "cell_type": "code",
   "execution_count": 21,
   "id": "0c246a1e-263d-4536-baeb-104d4134e54f",
   "metadata": {},
   "outputs": [],
   "source": [
    "import os"
   ]
  },
  {
   "cell_type": "code",
   "execution_count": null,
   "id": "f9f86324-c972-4b73-904b-f6d16d2b5b3e",
   "metadata": {},
   "outputs": [],
   "source": [
    "os.remove(\"\")"
   ]
  }
 ],
 "metadata": {
  "kernelspec": {
   "display_name": "Python 3 (ipykernel)",
   "language": "python",
   "name": "python3"
  },
  "language_info": {
   "codemirror_mode": {
    "name": "ipython",
    "version": 3
   },
   "file_extension": ".py",
   "mimetype": "text/x-python",
   "name": "python",
   "nbconvert_exporter": "python",
   "pygments_lexer": "ipython3",
   "version": "3.11.0"
  }
 },
 "nbformat": 4,
 "nbformat_minor": 5
}
