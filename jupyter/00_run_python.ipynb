{
 "cells": [
  {
   "cell_type": "code",
   "execution_count": 1,
   "id": "64fd79b6-b4a9-474c-8ee1-b1204f39af24",
   "metadata": {},
   "outputs": [
    {
     "data": {
      "text/plain": [
       "2"
      ]
     },
     "execution_count": 1,
     "metadata": {},
     "output_type": "execute_result"
    }
   ],
   "source": [
    "1 + 1"
   ]
  },
  {
   "cell_type": "code",
   "execution_count": 4,
   "id": "cdfaa93f-ca1d-4ca3-adef-90d7be9b4d50",
   "metadata": {},
   "outputs": [
    {
     "data": {
      "text/plain": [
       "3"
      ]
     },
     "execution_count": 4,
     "metadata": {},
     "output_type": "execute_result"
    }
   ],
   "source": [
    "5 - 2"
   ]
  },
  {
   "cell_type": "code",
   "execution_count": 5,
   "id": "8339bd20-c0e3-4ad4-99c6-c3f2cb636803",
   "metadata": {},
   "outputs": [
    {
     "data": {
      "text/plain": [
       "4"
      ]
     },
     "execution_count": 5,
     "metadata": {},
     "output_type": "execute_result"
    }
   ],
   "source": [
    "2 * 2"
   ]
  },
  {
   "cell_type": "markdown",
   "id": "8c422d55-02a4-4363-b06e-95a0575f4189",
   "metadata": {},
   "source": [
    "# do division here"
   ]
  },
  {
   "cell_type": "code",
   "execution_count": 7,
   "id": "186610e2-17ef-4d10-b00f-687a24ce4619",
   "metadata": {},
   "outputs": [
    {
     "data": {
      "text/plain": [
       "2.5"
      ]
     },
     "execution_count": 7,
     "metadata": {},
     "output_type": "execute_result"
    }
   ],
   "source": [
    "5 / 2"
   ]
  },
  {
   "cell_type": "code",
   "execution_count": 6,
   "id": "40a7f99d-34b2-4fbd-b10b-dee774e35137",
   "metadata": {},
   "outputs": [
    {
     "data": {
      "text/plain": [
       "1"
      ]
     },
     "execution_count": 6,
     "metadata": {},
     "output_type": "execute_result"
    }
   ],
   "source": [
    "5 % 2"
   ]
  },
  {
   "cell_type": "code",
   "execution_count": 3,
   "id": "5b013726-88e2-4c60-a05c-0bf146a6bd92",
   "metadata": {},
   "outputs": [
    {
     "data": {
      "text/plain": [
       "True"
      ]
     },
     "execution_count": 3,
     "metadata": {},
     "output_type": "execute_result"
    }
   ],
   "source": [
    "10 > 9"
   ]
  },
  {
   "cell_type": "markdown",
   "id": "386e2185-1191-4b53-84b5-a4ba36bd1ce4",
   "metadata": {},
   "source": [
    "Notebook is running Python code interactively"
   ]
  },
  {
   "cell_type": "markdown",
   "id": "f5a52d9e-cc9d-4abd-987c-7a15854a0b89",
   "metadata": {},
   "source": [
    "#### 1/3. ### Do a for loop  \\###"
   ]
  },
  {
   "cell_type": "code",
   "execution_count": 8,
   "id": "0be6b283-ceaa-4b41-b63a-9266b6957b2e",
   "metadata": {},
   "outputs": [
    {
     "name": "stdout",
     "output_type": "stream",
     "text": [
      "0 1 2 3 4 "
     ]
    }
   ],
   "source": [
    "for i in range(5):\n",
    "    print(i, end=\" \")"
   ]
  },
  {
   "cell_type": "markdown",
   "id": "20e5ecdc-515c-482e-9f42-09d39194eb80",
   "metadata": {},
   "source": [
    "#### 2/3. ### Create a function \\###"
   ]
  },
  {
   "cell_type": "code",
   "execution_count": 9,
   "id": "9b9c6feb-b043-4cfe-9e77-f9044c678d5c",
   "metadata": {},
   "outputs": [],
   "source": [
    "def print_list(lst):\n",
    "    for i in range(len(lst)):\n",
    "        print(lst[i], end=\" \")\n",
    "        "
   ]
  },
  {
   "cell_type": "markdown",
   "id": "5a000f49-6062-4988-8964-2dbf050719e3",
   "metadata": {},
   "source": [
    "#### 3/3. ### Call the function \\###"
   ]
  },
  {
   "cell_type": "code",
   "execution_count": 10,
   "id": "db1d35d8-d57f-499b-8788-304de36751a1",
   "metadata": {},
   "outputs": [
    {
     "name": "stdout",
     "output_type": "stream",
     "text": [
      "1 2 3 4 5 "
     ]
    }
   ],
   "source": [
    "print_list([1, 2, 3, 4, 5])"
   ]
  }
 ],
 "metadata": {
  "kernelspec": {
   "display_name": "Python 3 (ipykernel)",
   "language": "python",
   "name": "python3"
  },
  "language_info": {
   "codemirror_mode": {
    "name": "ipython",
    "version": 3
   },
   "file_extension": ".py",
   "mimetype": "text/x-python",
   "name": "python",
   "nbconvert_exporter": "python",
   "pygments_lexer": "ipython3",
   "version": "3.11.8"
  }
 },
 "nbformat": 4,
 "nbformat_minor": 5
}
