{
 "cells": [
  {
   "cell_type": "code",
   "execution_count": null,
   "id": "cc8a884b-9091-4f09-81b1-511077a780b3",
   "metadata": {},
   "outputs": [],
   "source": []
  }
 ],
 "metadata": {
  "kernelspec": {
   "display_name": "",
   "name": ""
  },
  "language_info": {
   "name": ""
  }
 },
 "nbformat": 4,
 "nbformat_minor": 5
}
