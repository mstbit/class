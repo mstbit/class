{
 "cells": [
  {
   "cell_type": "code",
   "execution_count": null,
   "id": "47e6c89e-46a6-4ceb-a45c-2efb3d3b5e26",
   "metadata": {},
   "outputs": [],
   "source": []
  }
 ],
 "metadata": {
  "kernelspec": {
   "display_name": "",
   "name": ""
  },
  "language_info": {
   "name": ""
  }
 },
 "nbformat": 4,
 "nbformat_minor": 5
}
