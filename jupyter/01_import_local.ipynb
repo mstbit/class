{
 "cells": [
  {
   "cell_type": "code",
   "execution_count": 1,
   "id": "47e6c89e-46a6-4ceb-a45c-2efb3d3b5e26",
   "metadata": {},
   "outputs": [
    {
     "name": "stdout",
     "output_type": "stream",
     "text": [
      "\n",
      "###################################################\n",
      "warming up\n",
      "###################################################\n",
      "add two:          15\n",
      "add multi values: 15\n",
      "sum lst for:      26\n",
      "sum lst sum():    26\n",
      "\n",
      "###################################################\n",
      "descriptive stats: 1/3 measures of central tendency\n",
      "###################################################\n",
      "mean of list:     3.25\n",
      "median of lst:    4.0\n",
      "mode of lst:      4\n",
      "\n",
      "###################################################\n",
      "descriptive stats: 2/3 measures of variability\n",
      "###################################################\n",
      "variance of lst:  96\n",
      "std deviation:    12.0\n",
      "\n",
      "###################################################\n",
      "descriptive stats: 3/3 measures of frequency distribution\n",
      "###################################################\n",
      "frequency of lst:  {1: 1, 2: 1, 3: 2, 4: 3, 5: 1}\n"
     ]
    }
   ],
   "source": [
    "import sys\n",
    "sys.path.insert(1, '..')\n",
    "\n",
    "import calc"
   ]
  },
  {
   "cell_type": "code",
   "execution_count": 2,
   "id": "2c3b11a5-5df5-442f-9bf7-b313f2370499",
   "metadata": {},
   "outputs": [
    {
     "data": {
      "text/plain": [
       "6"
      ]
     },
     "execution_count": 2,
     "metadata": {},
     "output_type": "execute_result"
    }
   ],
   "source": [
    "calc.add_multiple(1, 2, 3)"
   ]
  },
  {
   "cell_type": "code",
   "execution_count": null,
   "id": "35045a87-9ca2-4b7c-a7b9-731d1a18d2a8",
   "metadata": {},
   "outputs": [],
   "source": []
  }
 ],
 "metadata": {
  "kernelspec": {
   "display_name": "Python 3 (ipykernel)",
   "language": "python",
   "name": "python3"
  },
  "language_info": {
   "codemirror_mode": {
    "name": "ipython",
    "version": 3
   },
   "file_extension": ".py",
   "mimetype": "text/x-python",
   "name": "python",
   "nbconvert_exporter": "python",
   "pygments_lexer": "ipython3",
   "version": "3.12.2"
  }
 },
 "nbformat": 4,
 "nbformat_minor": 5
}
