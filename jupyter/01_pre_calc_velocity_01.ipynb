{
 "cells": [
  {
   "cell_type": "code",
   "execution_count": 3,
   "id": "b2439ef0-fc7f-41f0-ab80-020570c21172",
   "metadata": {},
   "outputs": [],
   "source": [
    "import numpy as np\n",
    "import matplotlib.pyplot as plt"
   ]
  },
  {
   "cell_type": "markdown",
   "id": "928fef85-c5fb-4d6a-aa10-4f0233d01377",
   "metadata": {
    "jp-MarkdownHeadingCollapsed": true
   },
   "source": [
    "### Velocity 01\n",
    "\n",
    "A ball is tossed straight up in the air. How is the ball moving? Questions like this one are central to our study of differential calculus. \n",
    "\n",
    "Preview Activity 1.1.1.  Suppose that the height of a ball at time (in seconds) is given in feet by the formula. Construct a graph of on the time interval:\n",
    "<ol>\n",
    "    <li> Label at least six distinct points on the graph, </li>\n",
    "    <li> including the three points showing when the \n",
    "        <ul>\n",
    "        <li> ball was released, </li>\n",
    "        <li> when the ball reaches its highest point, and \n",
    "        <li> when the ball lands.</li>\n",
    "        </ul>\n",
    "    </li>\n",
    "</ol>\n",
    "\n",
    "(ref: https://activecalculus.org/single/sec-1-1-vel.html)"
   ]
  },
  {
   "cell_type": "markdown",
   "id": "d71568b6-d5eb-43cb-b4e9-a8e08f19956b",
   "metadata": {},
   "source": [
    "### Velocity 01\n",
    "\n",
    "A ball is tossed straight up in the air. How is the ball moving? Questions like this one are central to our study of differential calculus. \n",
    "\n",
    "Preview Activity 1.1.1.  Suppose that the height of a ball at time (in seconds) is given in feet by the formula. Construct a graph of on the time interval:\n",
    "\n",
    "    1. Label at least six distinct points on the graph, \n",
    "    2. including the three points showing when the \n",
    "        \n",
    "        - ball was released, \n",
    "        - when the ball reaches its highest point, and \n",
    "        - when the ball lands.\n",
    "        \n",
    "(ref: https://activecalculus.org/single/sec-1-1-vel.html)"
   ]
  },
  {
   "cell_type": "code",
   "execution_count": null,
   "id": "88f3a47b-ca10-442f-b996-1d3c513c8f38",
   "metadata": {},
   "outputs": [],
   "source": []
  },
  {
   "cell_type": "code",
   "execution_count": null,
   "id": "0a39811e-7682-4af2-8f05-310286d738bc",
   "metadata": {},
   "outputs": [],
   "source": []
  }
 ],
 "metadata": {
  "kernelspec": {
   "display_name": "Python 3 (ipykernel)",
   "language": "python",
   "name": "python3"
  },
  "language_info": {
   "codemirror_mode": {
    "name": "ipython",
    "version": 3
   },
   "file_extension": ".py",
   "mimetype": "text/x-python",
   "name": "python",
   "nbconvert_exporter": "python",
   "pygments_lexer": "ipython3",
   "version": "3.12.0"
  }
 },
 "nbformat": 4,
 "nbformat_minor": 5
}
