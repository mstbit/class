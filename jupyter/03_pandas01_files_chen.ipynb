{
 "cells": [
  {
   "cell_type": "markdown",
   "id": "5ed89a22-a129-49ac-9e9d-add54889edd7",
   "metadata": {},
   "source": [
    "## Managing File Path in Jupyter\n",
    "#### 1/3. Import Libraries"
   ]
  },
  {
   "cell_type": "code",
   "execution_count": 1,
   "id": "0f159047-936c-4067-9f05-d451d0f64b0d",
   "metadata": {},
   "outputs": [],
   "source": [
    "import numpy\n",
    "import pandas as pd\n",
    "import os.path as path\n",
    "# os.getcwd()\n",
    "# os.chdir(\"data\")\n",
    "# os.chdir('')"
   ]
  },
  {
   "cell_type": "markdown",
   "id": "45c4659b-47cc-49db-812a-d357de0af65a",
   "metadata": {},
   "source": [
    "#### 2/3. Create DataFrame\n",
    "##### 1. assign data/datacsv to read_csv() \n",
    "##### 2. using with statement (file close automatically) \n",
    "##### 3. use path.join to join path and data\n",
    "##### 4. use os.chdir then assign\n"
   ]
  },
  {
   "cell_type": "code",
   "execution_count": 4,
   "id": "ddf666a8-bfb5-4287-8107-d5b7e868460b",
   "metadata": {},
   "outputs": [],
   "source": [
    "# data_path = \"$HOME/workspace/class/jupyter/data\"\n",
    "data_path = \"/Users/tychen/workspace/class/jupyter/data\"\n",
    "\n",
    "# ##### option 1: DOES NOT WORK in Jupyter\n",
    "# df = pd.read_csv(\"data/data.csv\")\n",
    "\n",
    "# ##### option 2: DOES NOT WORK in Jupyter\n",
    "# with open(\"data/data.csv\") as f:\n",
    "#     df = pd.read_csv(f)\n",
    "\n",
    "# ##### option 3: path.join\n",
    "# data = path.join(data_path, \"data.csv\")\n",
    "# with open(data) as f:\n",
    "#     df = pd.read_csv(f)\n",
    "\n",
    "# ##### option 4: change dir\n",
    "# os.chdir(data_path)\n",
    "# df = pd.read_csv(\"data.csv\")\n",
    "\n"
   ]
  },
  {
   "cell_type": "markdown",
   "id": "b82ca792-9282-484b-b1c7-ca6cda84049f",
   "metadata": {},
   "source": [
    "#### 3/3. Output\n",
    "\n",
    "##### to_string(): render a DataFrame to a console-friendly tabular output"
   ]
  },
  {
   "cell_type": "code",
   "execution_count": 3,
   "id": "ff85d555-7ad4-483f-a049-f7ef0c57b893",
   "metadata": {},
   "outputs": [
    {
     "ename": "NameError",
     "evalue": "name 'df' is not defined",
     "output_type": "error",
     "traceback": [
      "\u001b[0;31m---------------------------------------------------------------------------\u001b[0m",
      "\u001b[0;31mNameError\u001b[0m                                 Traceback (most recent call last)",
      "Cell \u001b[0;32mIn[3], line 3\u001b[0m\n\u001b[1;32m      1\u001b[0m \u001b[38;5;66;03m# print(df.to_string())     \u001b[39;00m\n\u001b[1;32m      2\u001b[0m \u001b[38;5;66;03m# print(df)\u001b[39;00m\n\u001b[0;32m----> 3\u001b[0m \u001b[38;5;28mprint\u001b[39m(\u001b[43mdf\u001b[49m\u001b[38;5;241m.\u001b[39mdescribe())\n",
      "\u001b[0;31mNameError\u001b[0m: name 'df' is not defined"
     ]
    }
   ],
   "source": [
    "# print(df.to_string())     \n",
    "# print(df)\n",
    "print(df.describe())"
   ]
  },
  {
   "cell_type": "code",
   "execution_count": null,
   "id": "3a945da1-716f-499a-ba1b-78f7b617b719",
   "metadata": {},
   "outputs": [],
   "source": []
  }
 ],
 "metadata": {
  "kernelspec": {
   "display_name": "Python 3 (ipykernel)",
   "language": "python",
   "name": "python3"
  },
  "language_info": {
   "codemirror_mode": {
    "name": "ipython",
    "version": 3
   },
   "file_extension": ".py",
   "mimetype": "text/x-python",
   "name": "python",
   "nbconvert_exporter": "python",
   "pygments_lexer": "ipython3",
   "version": "3.12.2"
  }
 },
 "nbformat": 4,
 "nbformat_minor": 5
}
